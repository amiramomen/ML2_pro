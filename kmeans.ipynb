{
  "nbformat": 4,
  "nbformat_minor": 0,
  "metadata": {
    "colab": {
      "provenance": []
    },
    "kernelspec": {
      "name": "python3",
      "display_name": "Python 3"
    },
    "language_info": {
      "name": "python"
    }
  },
  "cells": [
    {
      "cell_type": "code",
      "source": [
        "import numpy as np\n",
        "import matplotlib.pyplot as plt\n",
        "import random"
      ],
      "metadata": {
        "id": "w1jf0C2LHla9"
      },
      "execution_count": null,
      "outputs": []
    },
    {
      "cell_type": "code",
      "execution_count": null,
      "metadata": {
        "id": "cz2aV2BKHa-L"
      },
      "outputs": [],
      "source": [
        "def gen_num():\n",
        "    arr=np.random.uniform(low=0, high=10, size=(100, 2))\n",
        "  #  return list(map(tuple, arr))\n",
        "    return arr\n",
        "\n",
        "# gen = gen_num() \n",
        "# print(gen[:,0],gen[:,1])\n",
        "# plt.plot(gen[:,0],gen[:,1],'.')"
      ]
    },
    {
      "cell_type": "code",
      "source": [
        "def cen(l,ks):\n",
        "  cen=[]\n",
        "  for i in range (ks):\n",
        "  #  cen[i]= np.random.choice(l)\n",
        "    idx = np.random.randint(100, size=1)\n",
        "   # print(idx)\n",
        "   # print(l[idx])\n",
        "    cen.append(l[idx,:])\n",
        "  return cen"
      ],
      "metadata": {
        "id": "8bzmmRxUHeKO"
      },
      "execution_count": null,
      "outputs": []
    },
    {
      "cell_type": "code",
      "source": [
        "# print(cen(gen_num(),3))"
      ],
      "metadata": {
        "colab": {
          "base_uri": "https://localhost:8080/"
        },
        "id": "3CgolI8nJM_1",
        "outputId": "e75d4f05-0f09-4406-ea82-bf52b6a4bf77"
      },
      "execution_count": null,
      "outputs": [
        {
          "output_type": "stream",
          "name": "stdout",
          "text": [
            "[array([[6, 6]]), array([[5, 0]]), array([[1, 4]])]\n"
          ]
        }
      ]
    },
    {
      "cell_type": "code",
      "source": [
        "def dis(lis,cen1):\n",
        "  \n",
        "  dis=[]\n",
        "  for j in cen1 :\n",
        "    for i in lis:\n",
        "      err=j-i\n",
        "    #  print(j,i,err)\n",
        "      dis.append((np.linalg.norm(err)))\n",
        "  return dis\n",
        "\n",
        "\n"
      ],
      "metadata": {
        "id": "pHqGEk5jJOe5"
      },
      "execution_count": null,
      "outputs": []
    },
    {
      "cell_type": "code",
      "source": [
        "# l=gen_num()\n",
        "# k=cen(l,3)\n",
        "\n",
        "# k"
      ],
      "metadata": {
        "colab": {
          "base_uri": "https://localhost:8080/"
        },
        "id": "S1vfnC_YJOJS",
        "outputId": "1cf2c5bc-f167-4f3f-e764-fe6c59079400"
      },
      "execution_count": null,
      "outputs": [
        {
          "output_type": "execute_result",
          "data": {
            "text/plain": [
              "[array([[5.9555898 , 4.53179488]]),\n",
              " array([[4.95395049, 3.41256809]]),\n",
              " array([[1.37933046, 8.07728111]])]"
            ]
          },
          "metadata": {},
          "execution_count": 70
        }
      ]
    },
    {
      "cell_type": "code",
      "source": [
        "from functools import reduce"
      ],
      "metadata": {
        "id": "zyoFUGrAAzfP"
      },
      "execution_count": null,
      "outputs": []
    },
    {
      "cell_type": "code",
      "source": [
        "def km(k_no,l):\n",
        "\n",
        " ks=cen(l,k_no)\n",
        " cost=[]\n",
        " itr=0\n",
        " while(True):\n",
        "  dictf=dict()\n",
        "  dist =[ dis(l,k) for k in ks ]\n",
        "  arr= np.array(dist)\n",
        "\n",
        "  err=(arr.min(axis=0).sum())/len(l)\n",
        "  cost.append(err)\n",
        " # print(err,'llll',arr)\n",
        "  clust=np.argmin(arr, axis=0)\n",
        "  clas=list(zip(l,clust))\n",
        "  s_cluster=sorted(clas, key=lambda x: x[1])\n",
        "  \n",
        "  for poi,cl in s_cluster:\n",
        "      dictf.setdefault(cl , []).append(poi) \n",
        "\n",
        "  d=dict(sorted(dictf.items()))\n",
        "  new_k=[]\n",
        "  for key,value in d.items(): \n",
        "  #  print(key, reduce(lambda x, y: x + y, d[key]) / len(d[key]))\n",
        "    new_k.append(reduce(lambda x, y: x + y, d[key]) / len(d[key]))\n",
        "  \n",
        "  if itr!=0 and abs(cost[-2]-cost[-1])<0.0001:\n",
        "     break\n",
        "  #print( np.array(new_k)- np.array(all_k[-1])<.001)\n",
        "  ks=new_k\n",
        "  itr+=1\n",
        "  \n",
        "  return  new_k,dictf,cost[-1]\n",
        "\n",
        "   \n",
        "  \n"
      ],
      "metadata": {
        "id": "4fUybRI7Se44"
      },
      "execution_count": null,
      "outputs": []
    },
    {
      "cell_type": "code",
      "source": [
        "# km(3,l)"
      ],
      "metadata": {
        "id": "vPAofEUFjDQ1"
      },
      "execution_count": null,
      "outputs": []
    },
    {
      "cell_type": "code",
      "source": [
        "l=gen_num()\n",
        "plt.plot(l[:,0],l[:,1],'.')"
      ],
      "metadata": {
        "id": "sg2rdQpHZt0Q",
        "outputId": "15155c62-ac00-4e34-ef52-5b7deb918440",
        "colab": {
          "base_uri": "https://localhost:8080/",
          "height": 282
        }
      },
      "execution_count": null,
      "outputs": [
        {
          "output_type": "execute_result",
          "data": {
            "text/plain": [
              "[<matplotlib.lines.Line2D at 0x7fc1e82cc8e0>]"
            ]
          },
          "metadata": {},
          "execution_count": 87
        },
        {
          "output_type": "display_data",
          "data": {
            "text/plain": [
              "<Figure size 432x288 with 1 Axes>"
            ],
            "image/png": "[encoded data removed]"
          },
          "metadata": {
            "needs_background": "light"
          }
        }
      ]
    },
    {
      "cell_type": "code",
      "source": [
        "def k_loop(k_n,l):\n",
        "  best_k=[]\n",
        "  b_cost=[]\n",
        "  for i in range (15):\n",
        "    cent,data_clustered,cost=km(k_n,l)\n",
        "    best_k.append((cent,data_clustered,cost))\n",
        "    b_cost.append(cost)\n",
        "  minn=min(b_cost)  \n",
        "  index_of_maximum = (np.where(b_cost == minn))\n",
        "  r=reduce(lambda sub, ele: sub * 10 + ele, index_of_maximum)\n",
        "  #print(type(int(r)),r,minn)\n",
        "  return(best_k[int(r)])\n"
      ],
      "metadata": {
        "id": "SsTIEeSWk9kK"
      },
      "execution_count": null,
      "outputs": []
    },
    {
      "cell_type": "code",
      "source": [],
      "metadata": {
        "id": "dljV-5i7l7PV"
      },
      "execution_count": null,
      "outputs": []
    },
    {
      "cell_type": "code",
      "source": [
        "\n",
        "all_cost=[]\n",
        "for i in range (2,11):\n",
        "  cent,data_clustered,cost=k_loop(i,l)\n",
        "  all_cost.append(cost)\n",
        "plt.plot(np.arange (2,11),np.array(all_cost),'.-')\n"
      ],
      "metadata": {
        "colab": {
          "base_uri": "https://localhost:8080/",
          "height": 282
        },
        "id": "Se7GfKFvjEKa",
        "outputId": "f135b46b-e87a-4a30-863c-31ea4e78a225"
      },
      "execution_count": null,
      "outputs": [
        {
          "output_type": "execute_result",
          "data": {
            "text/plain": [
              "[<matplotlib.lines.Line2D at 0x7fc1e82318b0>]"
            ]
          },
          "metadata": {},
          "execution_count": 89
        },
        {
          "output_type": "display_data",
          "data": {
            "text/plain": [
              "<Figure size 432x288 with 1 Axes>"
            ],
            "image/png": "[encoded data removed]"
          },
          "metadata": {
            "needs_background": "light"
          }
        }
      ]
    },
    {
      "cell_type": "code",
      "source": [
        "cent8,data_clustered8,cost8=k_loop(8,l)"
      ],
      "metadata": {
        "id": "luIUHyor7Gnf"
      },
      "execution_count": null,
      "outputs": []
    },
    {
      "cell_type": "code",
      "source": [],
      "metadata": {
        "id": "seaBs7o8ctVa"
      },
      "execution_count": null,
      "outputs": []
    },
    {
      "cell_type": "code",
      "source": [
        "cent8=np.array(cent8)\n",
        "cent8"
      ],
      "metadata": {
        "id": "z6yYLMADaN-q",
        "outputId": "8f74585a-5ab0-407b-8af1-923426db4195",
        "colab": {
          "base_uri": "https://localhost:8080/"
        }
      },
      "execution_count": null,
      "outputs": [
        {
          "output_type": "execute_result",
          "data": {
            "text/plain": [
              "array([[6.71038286, 1.69380435],\n",
              "       [6.11820039, 6.11140415],\n",
              "       [8.84219619, 9.25055098],\n",
              "       [9.02975207, 5.58961358],\n",
              "       [1.83977613, 5.85198921],\n",
              "       [3.85078503, 1.83499887],\n",
              "       [3.05459427, 8.16458507],\n",
              "       [0.89750098, 2.83396105]])"
            ]
          },
          "metadata": {},
          "execution_count": 91
        }
      ]
    },
    {
      "cell_type": "code",
      "source": [
        "cent8[:,0],cent8[:,1]"
      ],
      "metadata": {
        "id": "XG3xUVbUaZJL",
        "outputId": "c215cfca-a0dd-4903-a3c7-e1839c0a317f",
        "colab": {
          "base_uri": "https://localhost:8080/"
        }
      },
      "execution_count": null,
      "outputs": [
        {
          "output_type": "execute_result",
          "data": {
            "text/plain": [
              "(array([6.71038286, 6.11820039, 8.84219619, 9.02975207, 1.83977613,\n",
              "        3.85078503, 3.05459427, 0.89750098]),\n",
              " array([1.69380435, 6.11140415, 9.25055098, 5.58961358, 5.85198921,\n",
              "        1.83499887, 8.16458507, 2.83396105]))"
            ]
          },
          "metadata": {},
          "execution_count": 92
        }
      ]
    },
    {
      "cell_type": "code",
      "source": [
        "for cluster,values in data_clustered8.items() :\n",
        "  X=[]\n",
        "  Y=[]\n",
        "  for x,y in values:\n",
        "    X.append(x)\n",
        "    Y.append(y)\n",
        "  plt.scatter(X,Y)\n",
        "plt.scatter(cent8[:,0],cent8[:,1],marker='+',color='black')"
      ],
      "metadata": {
        "id": "oZn1GQ-IbsgE",
        "outputId": "9e08ca28-6bd4-49b7-c4e6-12bcb582d317",
        "colab": {
          "base_uri": "https://localhost:8080/",
          "height": 282
        }
      },
      "execution_count": null,
      "outputs": [
        {
          "output_type": "execute_result",
          "data": {
            "text/plain": [
              "<matplotlib.collections.PathCollection at 0x7fc1e85c29d0>"
            ]
          },
          "metadata": {},
          "execution_count": 93
        },
        {
          "output_type": "display_data",
          "data": {
            "text/plain": [
              "<Figure size 432x288 with 1 Axes>"
            ],
            "image/png": "[encoded data removed]"
          },
          "metadata": {
            "needs_background": "light"
          }
        }
      ]
    },
    {
      "cell_type": "code",
      "source": [],
      "metadata": {
        "id": "ezHReBTyf9Mm"
      },
      "execution_count": null,
      "outputs": []
    }
  ]
}